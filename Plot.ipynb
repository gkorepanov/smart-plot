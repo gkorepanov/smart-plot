{
 "cells": [
  {
   "cell_type": "markdown",
   "metadata": {
    "collapsed": false
   },
   "source": [
    "# Plotting with Ease"
   ]
  },
  {
   "cell_type": "markdown",
   "metadata": {},
   "source": [
    "### Set the file, units and axis labels:"
   ]
  },
  {
   "cell_type": "code",
   "execution_count": 1,
   "metadata": {
    "collapsed": true
   },
   "outputs": [],
   "source": [
    "filename = \"data.csv\"\n",
    "units  = r\"м$/$с\"\n",
    "\n",
    "xlabel = 'Ось X, м'\n",
    "ylabel = 'Ось Y, с'"
   ]
  },
  {
   "cell_type": "code",
   "execution_count": 2,
   "metadata": {
    "collapsed": false
   },
   "outputs": [],
   "source": [
    "import numpy as np\n",
    "import pandas as pd\n",
    "import sympy as sp\n",
    "import statsmodels.api as sm\n",
    "import math\n",
    "\n",
    "# Load data\n",
    "data = pd.read_csv(filename, engine='python', header=None)\n",
    "\n",
    "# Exract arrays\n",
    "y = np.array(data[1])\n",
    "t = np.array(data[0])\n",
    "t = sm.add_constant(t, prepend=False)\n",
    "\n",
    "# Fitting\n",
    "model = sm.OLS(y,t)\n",
    "result = model.fit()\n",
    "\n",
    "# Saving parameters\n",
    "s_err, i_err = result.bse\n",
    "s, i = result.params"
   ]
  },
  {
   "cell_type": "code",
   "execution_count": 3,
   "metadata": {
    "collapsed": false
   },
   "outputs": [
    {
     "name": "stderr",
     "output_type": "stream",
     "text": [
      "/home/smart/anaconda3/lib/python3.6/site-packages/scipy/stats/stats.py:1327: UserWarning: kurtosistest only valid for n>=20 ... continuing anyway, n=18\n",
      "  \"anyway, n=%i\" % int(n))\n"
     ]
    },
    {
     "data": {
      "text/html": [
       "<table class=\"simpletable\">\n",
       "<tr>\n",
       "    <td></td>       <th>coef</th>     <th>std err</th>      <th>t</th>      <th>P>|t|</th> <th>[95.0% Conf. Int.]</th> \n",
       "</tr>\n",
       "<tr>\n",
       "  <th>x1</th>    <td>    2.0041</td> <td>    0.009</td> <td>  221.228</td> <td> 0.000</td> <td>    1.985     2.023</td>\n",
       "</tr>\n",
       "<tr>\n",
       "  <th>const</th> <td>    0.0052</td> <td>    0.098</td> <td>    0.053</td> <td> 0.958</td> <td>   -0.203     0.213</td>\n",
       "</tr>\n",
       "</table>"
      ],
      "text/plain": [
       "<class 'statsmodels.iolib.table.SimpleTable'>"
      ]
     },
     "execution_count": 3,
     "metadata": {},
     "output_type": "execute_result"
    }
   ],
   "source": [
    "# Showing result\n",
    "result.summary().tables[1]"
   ]
  },
  {
   "cell_type": "code",
   "execution_count": 4,
   "metadata": {
    "collapsed": false
   },
   "outputs": [],
   "source": [
    "import matplotlib.pylab as plt\n",
    "from matplotlib import rc\n",
    "# Plot size\n",
    "plt.rcParams['figure.figsize'] = (8, 5)\n",
    "\n",
    "rc('text.latex', preamble=r\"\\usepackage[utf8]{inputenc}\")\n",
    "rc('text.latex', preamble=r\"\\usepackage[russian]{babel}\")\n",
    "rc('text.latex', preamble=r\"\\usepackage{lmodern}\")\n",
    "rc('text.latex', preamble=r\"\\usepackage[T2A]{fontenc}\")\n",
    "rc('text.latex', unicode=True)\n",
    "\n",
    "# Options\n",
    "params = {'text.usetex' : True,\n",
    "          'font.size' : 11,\n",
    "          'font.family' : 'lmodern',\n",
    "          'text.latex.unicode': True,\n",
    "          }\n",
    "\n",
    "plt.rcParams.update(params)\n",
    "fig, ax = plt.subplots()\n",
    "\n",
    "plt.plot(data[0],data[1],'ro', np.arange(0,20), np.arange(0,20)*s+i,'k--')\n",
    "\n",
    "plt.xlabel(xlabel)\n",
    "plt.ylabel(ylabel)\n",
    "\n",
    "\n",
    "\n",
    "label = r\"$K=(\" + \"{:.3f}\".format(s) + r\"\\pm\" + \"{:.3f}\".format(s_err) + \")$ \" + units\n",
    "ax.text(0.05, 0.9, label, transform=ax.transAxes, bbox={'facecolor':'white', 'edgecolor':'black', 'pad':10})\n",
    "\n",
    "ax.grid(color='#e5e5e5', linestyle='--', linewidth=0.2)\n",
    "\n",
    "res = plt.gcf()"
   ]
  },
  {
   "cell_type": "markdown",
   "metadata": {},
   "source": [
    "### View and Save:"
   ]
  },
  {
   "cell_type": "code",
   "execution_count": 5,
   "metadata": {
    "collapsed": false
   },
   "outputs": [
    {
     "data": {
      "image/png": "[encoded data removed]",
      "text/plain": [
       "<matplotlib.figure.Figure at 0x7f5189fb0ef0>"
      ]
     },
     "metadata": {},
     "output_type": "display_data"
    }
   ],
   "source": [
    "plt.show()"
   ]
  },
  {
   "cell_type": "code",
   "execution_count": 6,
   "metadata": {
    "collapsed": true
   },
   "outputs": [],
   "source": [
    "# Save file\n",
    "res.savefig(\"graph.pdf\", \n",
    "            dpi=1000, \n",
    "            # Plot will be occupy a maximum of available space\n",
    "            bbox_inches='tight', \n",
    "            )"
   ]
  }
 ],
 "metadata": {
  "kernelspec": {
   "display_name": "Python 3",
   "language": "python",
   "name": "python3"
  },
  "language_info": {
   "codemirror_mode": {
    "name": "ipython",
    "version": 3
   },
   "file_extension": ".py",
   "mimetype": "text/x-python",
   "name": "python",
   "nbconvert_exporter": "python",
   "pygments_lexer": "ipython3",
   "version": "3.6.0"
  }
 },
 "nbformat": 4,
 "nbformat_minor": 2
}
